{
 "cells": [
  {
   "cell_type": "markdown",
   "metadata": {},
   "source": [
    "# R\n",
    "\n",
    "![](https://www.r-project.org/logo/Rlogo.png)\n",
    "\n",
    "GPT-4o assisted translation of Python code from previous chapter"
   ]
  },
  {
   "cell_type": "code",
   "execution_count": 1,
   "metadata": {
    "tags": [
     "hide-input",
     "hide-output"
    ],
    "vscode": {
     "languageId": "r"
    }
   },
   "outputs": [
    {
     "ename": "ERROR",
     "evalue": "Error in setwd(\"~/documents/github/justdo/\"): cannot change working directory\n",
     "output_type": "error",
     "traceback": [
      "Error in setwd(\"~/documents/github/justdo/\"): cannot change working directory\nTraceback:\n",
      "1. setwd(\"~/documents/github/justdo/\")"
     ]
    }
   ],
   "source": [
    "# Set working directory (adjust to your specific path)\n",
    "setwd(\"~/documents/github/justdo/\")\n",
    "\n",
    "# Install necessary packages if not already installed\n",
    "install.packages(c(\"ggplot2\", \"RColorBrewer\", \"reshape2\"))\n",
    "\n",
    "# Load necessary libraries\n",
    "library(ggplot2)\n",
    "library(RColorBrewer)\n",
    "library(reshape2)\n",
    "\n",
    "# Set seed for reproducibility\n",
    "set.seed(19680801)\n",
    "\n",
    "# Generate data\n",
    "N <- 10\n",
    "data <- replicate(N, log10(1:100) + rnorm(100) + seq(0, N - 1))\n",
    "\n",
    "# Convert data to a data frame for ggplot2\n",
    "df <- as.data.frame(data)\n",
    "df$index <- 1:100\n",
    "df_long <- melt(df, id.vars = \"index\")\n",
    "\n",
    "# Create a custom color palette\n",
    "colors <- colorRampPalette(rev(brewer.pal(11, \"Spectral\")))(N)\n",
    "\n",
    "# Plot the data\n",
    "p <- ggplot(df_long, aes(x = index, y = value, color = factor(variable))) +\n",
    "  geom_line(size = 1) +\n",
    "  scale_color_manual(values = colors, name = \"Legend\",\n",
    "                     labels = c(\"Cold\", \"Medium\", \"Hot\")) +\n",
    "  theme_minimal() +\n",
    "  theme(legend.position = \"top\") +\n",
    "  labs(title = \"Logarithmic Data with Random Noise\",\n",
    "       x = \"Index\",\n",
    "       y = \"Value\")\n",
    "\n",
    "# Display the plot\n",
    "print(p)\n",
    "\n",
    "# Save the plot with a wider aspect ratio\n",
    "ggsave(\"r.png\", plot = p, width = 10, height = 8)\n"
   ]
  },
  {
   "cell_type": "markdown",
   "metadata": {},
   "source": [
    "There is a lot more that you can do with outputs (such as including interactive outputs)\n",
    "with your book. For more information about this, see [the Jupyter Book documentation](https://jupyterbook.org)"
   ]
  },
  {
   "cell_type": "markdown",
   "metadata": {},
   "source": [
    "![](r.png)"
   ]
  }
 ],
 "metadata": {
  "kernelspec": {
   "display_name": "R",
   "language": "R",
   "name": "ir"
  },
  "language_info": {
   "codemirror_mode": "r",
   "file_extension": ".r",
   "mimetype": "text/x-r-source",
   "name": "R",
   "pygments_lexer": "r",
   "version": "4.3.1"
  },
  "widgets": {
   "application/vnd.jupyter.widget-state+json": {
    "state": {},
    "version_major": 2,
    "version_minor": 0
   }
  }
 },
 "nbformat": 4,
 "nbformat_minor": 4
}