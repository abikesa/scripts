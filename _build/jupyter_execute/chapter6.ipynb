{
 "cells": [
  {
   "cell_type": "markdown",
   "metadata": {},
   "source": [
    "# Natural\n",
    "\n",
    "![](https://upload.wikimedia.org/wikipedia/commons/thumb/c/c3/Python-logo-notext.svg/230px-Python-logo-notext.svg.png)\n",
    "\n",
    "Simulation for illustrative purposes"
   ]
  },
  {
   "cell_type": "code",
   "execution_count": 1,
   "metadata": {
    "tags": [
     "hide-input"
    ]
   },
   "outputs": [
    {
     "ename": "ModuleNotFoundError",
     "evalue": "No module named 'matplotlib'",
     "output_type": "error",
     "traceback": [
      "\u001b[0;31m---------------------------------------------------------------------------\u001b[0m",
      "\u001b[0;31mModuleNotFoundError\u001b[0m                       Traceback (most recent call last)",
      "Cell \u001b[0;32mIn[1], line 1\u001b[0m\n\u001b[0;32m----> 1\u001b[0m \u001b[38;5;28;01mimport\u001b[39;00m \u001b[38;5;21;01mmatplotlib\u001b[39;00m\u001b[38;5;21;01m.\u001b[39;00m\u001b[38;5;21;01mpyplot\u001b[39;00m \u001b[38;5;28;01mas\u001b[39;00m \u001b[38;5;21;01mplt\u001b[39;00m\n\u001b[1;32m      2\u001b[0m \u001b[38;5;28;01mfrom\u001b[39;00m \u001b[38;5;21;01mwordcloud\u001b[39;00m \u001b[38;5;28;01mimport\u001b[39;00m WordCloud\n\u001b[1;32m      4\u001b[0m \u001b[38;5;66;03m# Define the text with the word translations for \"Hello\"\u001b[39;00m\n",
      "\u001b[0;31mModuleNotFoundError\u001b[0m: No module named 'matplotlib'"
     ]
    }
   ],
   "source": [
    "import matplotlib.pyplot as plt\n",
    "from wordcloud import WordCloud\n",
    "\n",
    "# Define the text with the word translations for \"Hello\"\n",
    "text = \"\"\"Hello Hi Salut Bonjour Hallo Ola Ciao Hola Guten Tag Saluton Kamusta Merhaba Здравствуйте Elo Aloha Terve\n",
    "          Opa Вітаю 오늘은 Ciau 今日は سلام Здрасти 你好 سلامة\"\"\"\n",
    "\n",
    "# Define the word frequencies if specific sizes are required\n",
    "word_freqs = {\n",
    "    \"Kodeyo\": 10,\n",
    "    \"Hi\": 8,\n",
    "    \"Salut\": 7,\n",
    "    \"Bonjour\": 7,\n",
    "    \"Hallo\": 6,\n",
    "    \"Ola\": 6,\n",
    "    \"Ciao\": 5,\n",
    "    \"Hola\": 5,\n",
    "    \"Guten Tag\": 4,\n",
    "    \"Saluton\": 4,\n",
    "    \"Kamusta\": 4,\n",
    "    \"Merhaba\": 3,\n",
    "    \"Здравствуйте\": 3,\n",
    "    \"Elo\": 3,\n",
    "    \"Aloha\": 3,\n",
    "    \"Terve\": 3,\n",
    "    \"Opa\": 2,\n",
    "    \"Вітаю\": 2,\n",
    "    \"오늘은\": 2,\n",
    "    \"Ciau\": 2,\n",
    "    \"今日は\": 2,\n",
    "    \"سلام\": 2,\n",
    "    \"Здрасти\": 2,\n",
    "    \"你好\": 2,\n",
    "    \"سلامة\": 2\n",
    "}\n",
    "\n",
    "# Create the word cloud object\n",
    "wordcloud = WordCloud(width=800, height=400, background_color='white', relative_scaling=0.5,\n",
    "                      colormap='viridis', collocations=False).generate_from_frequencies(word_freqs)\n",
    "\n",
    "# Plot the word cloud\n",
    "plt.figure(figsize=(10, 5))\n",
    "plt.imshow(wordcloud, interpolation='bilinear')\n",
    "plt.axis('off')\n",
    "plt.show()\n"
   ]
  },
  {
   "cell_type": "markdown",
   "metadata": {},
   "source": [
    "It seems that the `pip` command is not recognized in your environment. Let's ensure your virtual environment is activated correctly and that you have `pip` installed. Here are the steps to resolve this:\n",
    "\n",
    "1. ***Now worries `~/.ssh/id_newworkflow` fixed this**:\n",
    "\n",
    "   ```sh\n",
    "   new/setup_environemnt.sh  \n",
    "   ```\n",
    "\n",
    "2. **Otherwise, activate your virtual environment**:\n",
    "   Make sure you are in the correct directory where your virtual environment is located. If your virtual environment is named `myenv`, activate it using:\n",
    "   ```sh\n",
    "   source myenv/bin/activate\n",
    "   ```\n",
    "\n",
    "3. **Install `pip` if it's missing**:\n",
    "   Check if `pip` is installed in your virtual environment:\n",
    "   ```sh\n",
    "   which pip\n",
    "   ```\n",
    "   If this returns nothing, you need to install `pip` in your virtual environment:\n",
    "   ```sh\n",
    "   python -m ensurepip --upgrade\n",
    "   ```\n",
    "\n",
    "4. **Install `wordcloud`**:\n",
    "   Once `pip` is available, install the necessary packages:\n",
    "   ```sh\n",
    "   pip install wordcloud matplotlib\n",
    "   ```\n",
    "\n",
    "5. **Run the script**:\n",
    "   Create a new Python file (e.g., `generate_wordcloud.py`) and add the script provided earlier. Then run it:\n",
    "   ```sh\n",
    "   python generate_wordcloud.py\n",
    "   ```\n",
    "\n",
    "By following these steps, you should be able to install the required libraries and run the script to generate the word cloud. If you encounter any issues, please provide the error messages, and I can help troubleshoot further."
   ]
  }
 ],
 "metadata": {
  "kernelspec": {
   "display_name": "Python 3",
   "language": "python",
   "name": "python3"
  },
  "language_info": {
   "codemirror_mode": {
    "name": "ipython",
    "version": 3
   },
   "file_extension": ".py",
   "mimetype": "text/x-python",
   "name": "python",
   "nbconvert_exporter": "python",
   "pygments_lexer": "ipython3",
   "version": "3.12.3"
  },
  "widgets": {
   "application/vnd.jupyter.widget-state+json": {
    "state": {},
    "version_major": 2,
    "version_minor": 0
   }
  }
 },
 "nbformat": 4,
 "nbformat_minor": 4
}